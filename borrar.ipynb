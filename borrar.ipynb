{
 "cells": [
  {
   "cell_type": "code",
   "execution_count": 7,
   "id": "089b4ee8",
   "metadata": {},
   "outputs": [],
   "source": [
    "#Delete\n",
    "import json\n",
    "\n",
    "# Abrir el archivo JSON y cargar los datos en una lista de usuarios\n",
    "with open('jeison.json', 'r') as f:\n",
    "    usuarios = json.load(f)\n",
    "\n",
    "# Buscar el usuario que se desea eliminar\n",
    "username_a_eliminar = 'nuevo123'\n",
    "\n",
    "for usuario in usuarios:\n",
    "    if usuario['username'] == username_a_eliminar:\n",
    "        usuarios.remove(usuario)\n",
    "        break\n",
    "\n",
    "# Guardar los cambios en el archivo JSON\n",
    "with open('jeison.json', 'w') as f:\n",
    "    json.dump(usuarios, f)\n"
   ]
  },
  {
   "cell_type": "code",
   "execution_count": null,
   "id": "0047986b",
   "metadata": {},
   "outputs": [],
   "source": []
  },
  {
   "cell_type": "code",
   "execution_count": null,
   "id": "bb5d871d",
   "metadata": {},
   "outputs": [],
   "source": []
  }
 ],
 "metadata": {
  "kernelspec": {
   "display_name": "Python 3 (ipykernel)",
   "language": "python",
   "name": "python3"
  },
  "language_info": {
   "codemirror_mode": {
    "name": "ipython",
    "version": 3
   },
   "file_extension": ".py",
   "mimetype": "text/x-python",
   "name": "python",
   "nbconvert_exporter": "python",
   "pygments_lexer": "ipython3",
   "version": "3.9.12"
  }
 },
 "nbformat": 4,
 "nbformat_minor": 5
}
