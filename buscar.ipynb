{
 "cells": [
  {
   "cell_type": "code",
   "execution_count": 10,
   "id": "b8682865",
   "metadata": {},
   "outputs": [],
   "source": [
    "#GET\n",
    "import json\n",
    "\n",
    "def busqueda():\n",
    "    # Abrir el archivo JSON y cargar los datos en una lista de usuarios\n",
    "    with open('jeison.json', 'r') as f:\n",
    "        usuarios = json.load(f)\n",
    "\n",
    "    # Buscar el usuario con nombre de usuario 'nuevo_usuario'\n",
    "    usuario_buscado = None\n",
    "    for usuario in usuarios:\n",
    "        if usuario['username'] == 'nuevo123':\n",
    "            usuario_buscado = usuario\n",
    "            break\n",
    "\n",
    "    # Mostrar la información del usuario buscado\n",
    "    if usuario_buscado:\n",
    "        print('Nombre de usuario:', usuario_buscado['username'])\n",
    "        print('Contraseña:', usuario_buscado['password'])\n",
    "        print('Correo electrónico:', usuario_buscado['email'])\n",
    "    else:\n",
    "        print('El usuario no se encontró en el archivo JSON.')\n"
   ]
  },
  {
   "cell_type": "code",
   "execution_count": 14,
   "id": "c8683954",
   "metadata": {},
   "outputs": [
    {
     "name": "stdout",
     "output_type": "stream",
     "text": [
      "El usuario no se encontró en el archivo JSON.\n"
     ]
    }
   ],
   "source": [
    "busqueda()"
   ]
  },
  {
   "cell_type": "code",
   "execution_count": null,
   "id": "526b5ddf",
   "metadata": {},
   "outputs": [],
   "source": []
  }
 ],
 "metadata": {
  "kernelspec": {
   "display_name": "Python 3 (ipykernel)",
   "language": "python",
   "name": "python3"
  },
  "language_info": {
   "codemirror_mode": {
    "name": "ipython",
    "version": 3
   },
   "file_extension": ".py",
   "mimetype": "text/x-python",
   "name": "python",
   "nbconvert_exporter": "python",
   "pygments_lexer": "ipython3",
   "version": "3.9.12"
  }
 },
 "nbformat": 4,
 "nbformat_minor": 5
}
