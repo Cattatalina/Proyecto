{
 "cells": [
  {
   "cell_type": "code",
   "execution_count": 9,
   "id": "25316c47",
   "metadata": {},
   "outputs": [],
   "source": [
    "#POST\n",
    "import json\n",
    "\n",
    "with open('jeison.json', 'r') as f:\n",
    "    usuarios = json.load(f)\n",
    "\n",
    "nuevo_usuario = {\n",
    "    \"username\": \"nuevo123\",\n",
    "    \"email\": \"nuevo123@example.com\",\n",
    "    \"password\": \"nuevacontraseña123\",\n",
    "    \"name\": \"Nuevo\",\n",
    "    \"last_name\": \"Usuario\"\n",
    "}\n",
    "\n",
    "usuarios.append(nuevo_usuario)\n",
    "\n",
    "with open('jeison.json', 'w') as f:\n",
    "    json.dump(usuarios, f)\n"
   ]
  },
  {
   "cell_type": "code",
   "execution_count": null,
   "id": "4d098d3f",
   "metadata": {},
   "outputs": [],
   "source": []
  }
 ],
 "metadata": {
  "kernelspec": {
   "display_name": "Python 3 (ipykernel)",
   "language": "python",
   "name": "python3"
  },
  "language_info": {
   "codemirror_mode": {
    "name": "ipython",
    "version": 3
   },
   "file_extension": ".py",
   "mimetype": "text/x-python",
   "name": "python",
   "nbconvert_exporter": "python",
   "pygments_lexer": "ipython3",
   "version": "3.9.12"
  }
 },
 "nbformat": 4,
 "nbformat_minor": 5
}
